{
 "cells": [
  {
   "cell_type": "code",
   "execution_count": 19,
   "id": "8a951652-cd5e-4943-a7e7-bf7bcfc44534",
   "metadata": {},
   "outputs": [],
   "source": [
    "import numpy as np\n",
    "import random"
   ]
  },
  {
   "cell_type": "code",
   "execution_count": 20,
   "id": "801b9d3b-a20a-4298-b410-01f444e309d4",
   "metadata": {},
   "outputs": [
    {
     "name": "stdout",
     "output_type": "stream",
     "text": [
      "Welcome to IronHack Minesweeper 2022\n",
      "\n"
     ]
    }
   ],
   "source": [
    "print('Welcome to IronHack Minesweeper 2022\\n')"
   ]
  },
  {
   "cell_type": "code",
   "execution_count": 104,
   "id": "28c14d38-fa7e-4eb3-9bbe-60ed2ab1378c",
   "metadata": {},
   "outputs": [
    {
     "name": "stdin",
     "output_type": "stream",
     "text": [
      "Choose your dificulty: 1:8x8 2:16x16 3:30x30 1\n"
     ]
    },
    {
     "name": "stdout",
     "output_type": "stream",
     "text": [
      "1\n",
      "7\n",
      "8\n"
     ]
    }
   ],
   "source": [
    "dif=input('Choose your dificulty: 1:8x8 2:16x16 3:30x30')\n",
    "dif=int(dif)\n",
    "if dif==1:\n",
    "    tamaño=7\n",
    "    minas=8\n",
    "elif dif==2:\n",
    "    tamaño=14\n",
    "    minas=30\n",
    "elif dif==3:\n",
    "    tamaño=21\n",
    "    minas=67\n",
    "print(dif)\n",
    "print(tamaño)\n",
    "print(minas)"
   ]
  },
  {
   "cell_type": "code",
   "execution_count": 105,
   "id": "1bc43221-6a9c-4942-a2c4-bd3f6f8a22e7",
   "metadata": {},
   "outputs": [
    {
     "name": "stdout",
     "output_type": "stream",
     "text": [
      "[['-' '-' '-' '-' '-' '-' '-']\n",
      " ['-' '-' '-' '-' '-' '-' '-']\n",
      " ['-' '-' '-' '-' '-' '-' '-']\n",
      " ['-' '-' '-' '-' '-' '-' '-']\n",
      " ['-' '-' '-' '-' '-' '-' '-']\n",
      " ['-' '-' '-' '-' '-' '-' '-']\n",
      " ['-' '-' '-' '-' '-' '-' '-']]\n"
     ]
    }
   ],
   "source": [
    "board=np.full((tamaño, tamaño), '-')\n",
    "print(board)"
   ]
  },
  {
   "cell_type": "code",
   "execution_count": 106,
   "id": "36d44f18-dac5-4971-9ecf-4ec3a207846b",
   "metadata": {},
   "outputs": [
    {
     "name": "stdout",
     "output_type": "stream",
     "text": [
      "[2, 2, 3, 0, 1, 2, 5, 0]\n",
      "[3, 6, 2, 4, 5, 1, 6, 2]\n"
     ]
    }
   ],
   "source": [
    "minas_x=[]\n",
    "minas_y=[]\n",
    "for i in range(minas):\n",
    "    x = random.randint(0, tamaño-1)\n",
    "    y = random.randint(0, tamaño-1)\n",
    "    minas_x.append(x)\n",
    "    minas_y.append(y)\n",
    "print(minas_x)\n",
    "print(minas_y)\n"
   ]
  },
  {
   "cell_type": "code",
   "execution_count": 107,
   "id": "bd3872e2-f165-4701-a8fd-4ec0d0987940",
   "metadata": {},
   "outputs": [],
   "source": [
    "for mines in range (0,minas):\n",
    "    board[minas_x[mines]][minas_y[mines]]='x'"
   ]
  },
  {
   "cell_type": "code",
   "execution_count": 108,
   "id": "7af0129f-8af1-46d5-ba7d-07978d4c2617",
   "metadata": {},
   "outputs": [
    {
     "name": "stdout",
     "output_type": "stream",
     "text": [
      "[['-' '-' 'x' '-' 'x' '-' '-']\n",
      " ['-' '-' '-' '-' '-' 'x' '-']\n",
      " ['-' 'x' '-' 'x' '-' '-' 'x']\n",
      " ['-' '-' 'x' '-' '-' '-' '-']\n",
      " ['-' '-' '-' '-' '-' '-' '-']\n",
      " ['-' '-' '-' '-' '-' '-' 'x']\n",
      " ['-' '-' '-' '-' '-' '-' '-']]\n",
      "8\n"
     ]
    }
   ],
   "source": [
    "print(board)\n",
    "contminas=0\n",
    "for fila in range(0,tamaño): \n",
    "    for col in range (0,tamaño):\n",
    "        if board[fila][col]=='x':\n",
    "            contminas=contminas+1\n",
    "            \n",
    "print(contminas)"
   ]
  },
  {
   "cell_type": "code",
   "execution_count": 109,
   "id": "178dff91-8b22-4f66-8e6e-0dae895a0d55",
   "metadata": {},
   "outputs": [],
   "source": [
    "for fila in range(1,tamaño-1): \n",
    "    for col in range (1,tamaño-1):\n",
    "        cont=0\n",
    "        if board[fila][col]=='-':\n",
    "            aux=contar_mina_arriba(fila,col)\n",
    "            cont=cont+aux\n",
    "            \n",
    "            aux=contar_mina_abajo(fila,col)\n",
    "            cont=cont+aux\n",
    "            \n",
    "            aux=contar_mina_derecha(fila,col)\n",
    "            cont=cont+aux\n",
    "            \n",
    "            aux=contar_mina_izquierda(fila,col)\n",
    "            cont=cont+aux\n",
    "            \n",
    "            aux=contar_mina_arriba_derecha(fila,col)\n",
    "            cont=cont+aux\n",
    "            \n",
    "            aux=contar_mina_arriba_izquierda(fila,col)\n",
    "            cont=cont+aux\n",
    "            \n",
    "            aux=contar_mina_abajo_derecha(fila,col)\n",
    "            cont=cont+aux\n",
    "            \n",
    "            aux=contar_mina_abajo_izquierda(fila,col)\n",
    "            cont=cont+aux\n",
    "            \n",
    "            board[fila][col]=str(cont)"
   ]
  },
  {
   "cell_type": "code",
   "execution_count": 110,
   "id": "d9e90a02-9733-4b0e-94e3-1d638dd6b380",
   "metadata": {},
   "outputs": [
    {
     "name": "stdout",
     "output_type": "stream",
     "text": [
      "[['-' '-' 'x' '-' 'x' '-' '-']\n",
      " ['-' '2' '3' '3' '3' 'x' '-']\n",
      " ['-' 'x' '3' 'x' '2' '2' 'x']\n",
      " ['-' '2' 'x' '2' '1' '1' '-']\n",
      " ['-' '1' '1' '1' '0' '1' '-']\n",
      " ['-' '0' '0' '0' '0' '1' 'x']\n",
      " ['-' '-' '-' '-' '-' '-' '-']]\n",
      "8\n"
     ]
    }
   ],
   "source": [
    "print(board)\n",
    "\n",
    "contminas=0\n",
    "for fila in range(0,tamaño): \n",
    "    for col in range (0,tamaño):\n",
    "        if board[fila][col]=='x':\n",
    "            contminas=contminas+1\n",
    "            \n",
    "print(contminas)"
   ]
  },
  {
   "cell_type": "code",
   "execution_count": 111,
   "id": "94d4367e-a37c-4ca2-9b4e-c26f51d75902",
   "metadata": {},
   "outputs": [
    {
     "name": "stdout",
     "output_type": "stream",
     "text": [
      "[['0' '-' 'x' '-' 'x' '-' '1']\n",
      " ['-' '2' '3' '3' '3' 'x' '-']\n",
      " ['-' 'x' '3' 'x' '2' '2' 'x']\n",
      " ['-' '2' 'x' '2' '1' '1' '-']\n",
      " ['-' '1' '1' '1' '0' '1' '-']\n",
      " ['-' '0' '0' '0' '0' '1' 'x']\n",
      " ['0' '-' '-' '-' '-' '-' '1']]\n"
     ]
    }
   ],
   "source": [
    "#cpntadores de minas para esquinas\n",
    "if board[0][0]=='-':\n",
    "    cont_esquina=0\n",
    "    cont_esquina=cont_esquina+contar_mina_derecha(0,0)\n",
    "    cont_esquina=cont_esquina+contar_mina_abajo(0,0)\n",
    "    cont_esquina=cont_esquina+contar_mina_abajo_derecha(0,0)\n",
    "    board[0][0]=str(cont_esquina)\n",
    "\n",
    "if board[tamaño-1][0]=='-':\n",
    "    cont_esquina=0\n",
    "    cont_esquina=cont_esquina+contar_mina_arriba(tamaño-1,0)\n",
    "    cont_esquina=cont_esquina+contar_mina_derecha(tamaño-1,0)\n",
    "    cont_esquina=cont_esquina+contar_mina_arriba_derecha(tamaño-1,0)\n",
    "    board[tamaño-1][0]=str(cont_esquina)\n",
    "\n",
    "if board[0][tamaño-1]=='-':\n",
    "    cont_esquina=0\n",
    "    cont_esquina=cont_esquina+contar_mina_izquierda(0,tamaño-1)\n",
    "    cont_esquina=cont_esquina+contar_mina_abajo(0,tamaño-1)\n",
    "    cont_esquina=cont_esquina+contar_mina_abajo_izquierda(0,tamaño-1)\n",
    "    board[0][tamaño-1]=str(cont_esquina)\n",
    "\n",
    "\n",
    "if board[tamaño-1][tamaño-1]=='-':\n",
    "    cont_esquina=0\n",
    "    cont_esquina=cont_esquina+contar_mina_izquierda(tamaño-1, tamaño-1)\n",
    "    cont_esquina=cont_esquina+contar_mina_arriba(tamaño-1, tamaño-1)\n",
    "    cont_esquina=cont_esquina+contar_mina_arriba_izquierda(tamaño-1, tamaño-1)\n",
    "    board[tamaño-1][tamaño-1]=str(cont_esquina)\n",
    "\n",
    "\n",
    "print(board)"
   ]
  },
  {
   "cell_type": "code",
   "execution_count": 112,
   "id": "83244fa4-737a-4a9f-9a54-5c38364c934b",
   "metadata": {},
   "outputs": [
    {
     "name": "stdout",
     "output_type": "stream",
     "text": [
      "[['0' '1' 'x' '2' 'x' '2' '1']\n",
      " ['-' '2' '3' '3' '3' 'x' '-']\n",
      " ['-' 'x' '3' 'x' '2' '2' 'x']\n",
      " ['-' '2' 'x' '2' '1' '1' '-']\n",
      " ['-' '1' '1' '1' '0' '1' '-']\n",
      " ['-' '0' '0' '0' '0' '1' 'x']\n",
      " ['0' '0' '0' '0' '0' '1' '1']]\n"
     ]
    }
   ],
   "source": [
    "#cuenta para fila arriba\n",
    "ladoshor=[0,tamaño-1]\n",
    "for index in ladoshor:\n",
    "    for lado1 in range (1,tamaño-1): #lado arriba\n",
    "        if index==0:\n",
    "            if board[index][lado1]=='-':\n",
    "                contlado=0\n",
    "                contlado=contlado+contar_mina_izquierda(index,lado1)\n",
    "                contlado=contlado+contar_mina_derecha(index,lado1)\n",
    "                contlado=contlado+contar_mina_abajo(index, lado1)\n",
    "                contlado=contlado+contar_mina_abajo_derecha(index, lado1)\n",
    "                contlado=contlado+contar_mina_abajo_izquierda(index, lado1)\n",
    "                board[index][lado1]=str(contlado)\n",
    "        else:\n",
    "            if board[index][lado1]=='-':\n",
    "                contlado=0\n",
    "                contlado=contlado+contar_mina_izquierda(index,lado1)\n",
    "                contlado=contlado+contar_mina_derecha(index,lado1)\n",
    "                contlado=contlado+contar_mina_arriba(index, lado1)\n",
    "                contlado=contlado+contar_mina_arriba_derecha(index, lado1)\n",
    "                contlado=contlado+contar_mina_arriba_izquierda(index, lado1)\n",
    "                board[index][lado1]=str(contlado)\n",
    "print(board)"
   ]
  },
  {
   "cell_type": "code",
   "execution_count": 113,
   "id": "f1be27c6-6f39-4eaf-bbfb-4b1d489b8ff7",
   "metadata": {},
   "outputs": [
    {
     "name": "stdout",
     "output_type": "stream",
     "text": [
      "[['0' '1' 'x' '2' 'x' '2' '1']\n",
      " ['1' '2' '3' '3' '3' 'x' '2']\n",
      " ['1' 'x' '3' 'x' '2' '2' 'x']\n",
      " ['1' '2' 'x' '2' '1' '1' '1']\n",
      " ['0' '1' '1' '1' '0' '1' '1']\n",
      " ['0' '0' '0' '0' '0' '1' 'x']\n",
      " ['0' '0' '0' '0' '0' '1' '1']]\n"
     ]
    }
   ],
   "source": [
    "#cuenta para fila arriba\n",
    "ladoshor=[0,tamaño-1]\n",
    "for lado1 in range (1,tamaño-1):\n",
    "    for index in ladoshor:\n",
    "        if index==0:\n",
    "            if board[lado1][index]=='-':\n",
    "                contlado=0\n",
    "                contlado=contlado+contar_mina_arriba(lado1,index)\n",
    "                contlado=contlado+contar_mina_abajo(lado1,index)\n",
    "                contlado=contlado+contar_mina_derecha(lado1,index)\n",
    "                contlado=contlado+contar_mina_abajo_derecha(lado1,index)\n",
    "                contlado=contlado+contar_mina_arriba_derecha(lado1,index)\n",
    "                board[lado1][index]=str(contlado)\n",
    "        else:\n",
    "            if board[lado1][index]=='-':\n",
    "                contlado=0\n",
    "                contlado=contlado+contar_mina_arriba(lado1,index)\n",
    "                contlado=contlado+contar_mina_abajo(lado1,index)\n",
    "                contlado=contlado+contar_mina_izquierda(lado1,index)\n",
    "                contlado=contlado+contar_mina_abajo_izquierda(lado1,index)\n",
    "                contlado=contlado+contar_mina_arriba_izquierda(lado1,index)\n",
    "                board[lado1][index]=str(contlado)\n",
    "print(board)"
   ]
  },
  {
   "cell_type": "code",
   "execution_count": 114,
   "id": "2c8c8536-1846-40e0-913d-eb643052b9c1",
   "metadata": {},
   "outputs": [
    {
     "name": "stdout",
     "output_type": "stream",
     "text": [
      "8\n"
     ]
    }
   ],
   "source": [
    "contminas=0\n",
    "for fila in range(0,tamaño): \n",
    "    for col in range (0,tamaño):\n",
    "        if board[fila][col]=='x':\n",
    "            contminas=contminas+1\n",
    "            \n",
    "print(contminas)"
   ]
  },
  {
   "cell_type": "code",
   "execution_count": null,
   "id": "c042de2a-bea2-4359-8119-74b18932e431",
   "metadata": {},
   "outputs": [],
   "source": []
  },
  {
   "cell_type": "code",
   "execution_count": 47,
   "id": "f8667542-d218-4607-87cb-e12678e1586d",
   "metadata": {},
   "outputs": [],
   "source": [
    "#funciones para contar las minas\n",
    "\n",
    "#arriba\n",
    "def contar_mina_arriba(fila, col):\n",
    "    if board[fila-1][col]=='x':\n",
    "        return 1\n",
    "    else:\n",
    "        return 0\n",
    "    \n",
    "    \n",
    "#abajo\n",
    "def contar_mina_abajo(fila, col):\n",
    "    if board[fila+1][col]=='x':\n",
    "        return 1\n",
    "    else:\n",
    "        return 0\n",
    "    \n",
    "\n",
    "#derecha\n",
    "def contar_mina_derecha(fila, col):\n",
    "    if board[fila][col+1]=='x':\n",
    "        return 1\n",
    "    else:\n",
    "        return 0\n",
    "    \n",
    "\n",
    "#izquierda\n",
    "def contar_mina_izquierda(fila, col):\n",
    "    if board[fila][col-1]=='x':\n",
    "        return 1\n",
    "    else:\n",
    "        return 0\n",
    "    \n",
    "    \n",
    "    \n",
    "#arriba derecha\n",
    "def contar_mina_arriba_derecha(fila, col):\n",
    "    if board[fila-1][col+1]=='x':\n",
    "        return 1\n",
    "    else:\n",
    "        return 0\n",
    "    \n",
    "    \n",
    "    \n",
    "    \n",
    "#arriba izquierda\n",
    "def contar_mina_arriba_izquierda(fila, col):\n",
    "    if board[fila-1][col-1]=='x':\n",
    "        return 1\n",
    "    else:\n",
    "        return 0\n",
    "    \n",
    "    \n",
    "    \n",
    "#abajo derecha\n",
    "def contar_mina_abajo_derecha(fila, col):\n",
    "    if board[fila+1][col+1]=='x':\n",
    "        return 1\n",
    "    else:\n",
    "        return 0\n",
    "    \n",
    "    \n",
    "    \n",
    "    \n",
    "#abajo izquierda\n",
    "def contar_mina_abajo_izquierda(fila, col):\n",
    "    if board[fila+1][col-1]=='x':\n",
    "        return 1\n",
    "    else:\n",
    "        return 0"
   ]
  },
  {
   "cell_type": "code",
   "execution_count": null,
   "id": "87e4f33f-cb6b-4683-86ef-1ae6ade1282b",
   "metadata": {},
   "outputs": [],
   "source": []
  },
  {
   "cell_type": "code",
   "execution_count": null,
   "id": "b538c473-c2d0-4c2b-9dc9-71015c3b180f",
   "metadata": {},
   "outputs": [],
   "source": []
  },
  {
   "cell_type": "code",
   "execution_count": null,
   "id": "b38a7703-bcbc-4a81-9548-270a6f2b29ad",
   "metadata": {},
   "outputs": [],
   "source": []
  },
  {
   "cell_type": "code",
   "execution_count": null,
   "id": "768c939a-9695-4c52-9191-1adde6f253bb",
   "metadata": {},
   "outputs": [],
   "source": []
  },
  {
   "cell_type": "code",
   "execution_count": null,
   "id": "3b19094e-0543-4bb0-983e-a8d101a41d30",
   "metadata": {},
   "outputs": [],
   "source": []
  },
  {
   "cell_type": "code",
   "execution_count": null,
   "id": "f2ed7761-4691-4b8d-9dea-d52d631e6333",
   "metadata": {},
   "outputs": [],
   "source": []
  },
  {
   "cell_type": "code",
   "execution_count": null,
   "id": "39046c97-b89b-4d13-8876-b0b2e2bf4675",
   "metadata": {},
   "outputs": [],
   "source": []
  },
  {
   "cell_type": "code",
   "execution_count": null,
   "id": "3f5d5465-cf12-491a-a02d-1f3a07094ea1",
   "metadata": {},
   "outputs": [],
   "source": []
  },
  {
   "cell_type": "code",
   "execution_count": null,
   "id": "c8cd1932-c65b-47f7-8541-7f716451a437",
   "metadata": {},
   "outputs": [],
   "source": []
  },
  {
   "cell_type": "code",
   "execution_count": null,
   "id": "285132eb-bf9f-41b4-a6de-935e70561bcc",
   "metadata": {},
   "outputs": [],
   "source": []
  },
  {
   "cell_type": "code",
   "execution_count": null,
   "id": "d5f4bf9b-2aeb-4d9c-b06f-03488aa298b6",
   "metadata": {},
   "outputs": [],
   "source": []
  },
  {
   "cell_type": "code",
   "execution_count": null,
   "id": "b80733f4-b078-433e-be41-7a8c4dffec4a",
   "metadata": {},
   "outputs": [],
   "source": []
  },
  {
   "cell_type": "code",
   "execution_count": 106,
   "id": "9c0cd5bb-8fb2-4f62-9410-78f6dc093041",
   "metadata": {},
   "outputs": [
    {
     "name": "stdout",
     "output_type": "stream",
     "text": [
      "[['E' '-' '-' '-' '-' '-' '-']\n",
      " ['x' 'x' '-' '-' '-' '-' '-']\n",
      " ['x' '-' '-' '-' '-' '-' '-']\n",
      " ['-' '-' '-' '-' '-' 'x' '-']\n",
      " ['-' 'x' '-' '-' '-' '-' '-']\n",
      " ['-' '-' '-' '-' '-' 'x' '-']\n",
      " ['-' '-' '-' '-' '-' '-' 'E']]\n"
     ]
    }
   ],
   "source": [
    "board[0][0]='E'\n",
    "board[tamaño-1][tamaño-1]='E'\n",
    "board[0][tamaño-1]='E'\n",
    "board[tamaño-1][0]='E'\n",
    "\n",
    "print(board)"
   ]
  },
  {
   "cell_type": "code",
   "execution_count": 109,
   "id": "7b0ed4fe-b5fb-4db5-b323-3dab25e0a1e9",
   "metadata": {},
   "outputs": [
    {
     "name": "stdout",
     "output_type": "stream",
     "text": [
      "[['E' 'L' 'L' 'L' 'L' 'L' 'E']\n",
      " ['x' 'x' '-' '-' '-' '-' '-']\n",
      " ['x' '-' '-' '-' '-' '-' '-']\n",
      " ['-' '-' '-' '-' '-' 'x' '-']\n",
      " ['-' 'x' '-' '-' '-' '-' '-']\n",
      " ['-' '-' '-' '-' '-' 'x' '-']\n",
      " ['E' '-' '-' '-' '-' '-' 'E']]\n"
     ]
    }
   ],
   "source": [
    "for lado1 in range (1,tamaño-1): #lado arriba\n",
    "    board[0][lado1]='L'\n",
    "print(board)"
   ]
  },
  {
   "cell_type": "code",
   "execution_count": 110,
   "id": "cfd0d3ff-8339-4e21-8461-b0b584988171",
   "metadata": {},
   "outputs": [
    {
     "name": "stdout",
     "output_type": "stream",
     "text": [
      "[['E' 'L' 'L' 'L' 'L' 'L' 'E']\n",
      " ['x' 'x' '-' '-' '-' '-' 'L']\n",
      " ['x' '-' '-' '-' '-' '-' 'L']\n",
      " ['-' '-' '-' '-' '-' 'x' 'L']\n",
      " ['-' 'x' '-' '-' '-' '-' 'L']\n",
      " ['-' '-' '-' '-' '-' 'x' 'L']\n",
      " ['E' '-' '-' '-' '-' '-' 'E']]\n"
     ]
    }
   ],
   "source": [
    "for lado1 in range (1,tamaño-1):#Lado derecho\n",
    "    board[lado1][tamaño-1]='L'\n",
    "print(board)"
   ]
  },
  {
   "cell_type": "code",
   "execution_count": 111,
   "id": "7fe3060f-cd40-4043-b429-fb2bf9c48673",
   "metadata": {},
   "outputs": [
    {
     "name": "stdout",
     "output_type": "stream",
     "text": [
      "[['E' 'L' 'L' 'L' 'L' 'L' 'E']\n",
      " ['L' 'x' '-' '-' '-' '-' 'L']\n",
      " ['L' '-' '-' '-' '-' '-' 'L']\n",
      " ['L' '-' '-' '-' '-' 'x' 'L']\n",
      " ['L' 'x' '-' '-' '-' '-' 'L']\n",
      " ['L' '-' '-' '-' '-' 'x' 'L']\n",
      " ['E' '-' '-' '-' '-' '-' 'E']]\n"
     ]
    }
   ],
   "source": [
    "for lado1 in range (1,tamaño-1):#lado izquierdo\n",
    "    board[lado1][0]='L'\n",
    "print(board)"
   ]
  },
  {
   "cell_type": "code",
   "execution_count": 112,
   "id": "ca9eedf3-45bb-46e0-aa1b-430efbfe6d46",
   "metadata": {},
   "outputs": [
    {
     "name": "stdout",
     "output_type": "stream",
     "text": [
      "[['E' 'L' 'L' 'L' 'L' 'L' 'E']\n",
      " ['L' 'x' '-' '-' '-' '-' 'L']\n",
      " ['L' '-' '-' '-' '-' '-' 'L']\n",
      " ['L' '-' '-' '-' '-' 'x' 'L']\n",
      " ['L' 'x' '-' '-' '-' '-' 'L']\n",
      " ['L' '-' '-' '-' '-' 'x' 'L']\n",
      " ['E' 'L' 'L' 'L' 'L' 'L' 'E']]\n"
     ]
    }
   ],
   "source": [
    "for lado1 in range (1,tamaño-1):#lado abojo\n",
    "    board[tamaño-1][lado1]='L'\n",
    "print(board)"
   ]
  },
  {
   "cell_type": "code",
   "execution_count": null,
   "id": "c1432d5f-30e7-469a-ac2e-5778d7e9f0f5",
   "metadata": {},
   "outputs": [],
   "source": []
  }
 ],
 "metadata": {
  "kernelspec": {
   "display_name": "Python 3 (ipykernel)",
   "language": "python",
   "name": "python3"
  },
  "language_info": {
   "codemirror_mode": {
    "name": "ipython",
    "version": 3
   },
   "file_extension": ".py",
   "mimetype": "text/x-python",
   "name": "python",
   "nbconvert_exporter": "python",
   "pygments_lexer": "ipython3",
   "version": "3.9.7"
  }
 },
 "nbformat": 4,
 "nbformat_minor": 5
}
